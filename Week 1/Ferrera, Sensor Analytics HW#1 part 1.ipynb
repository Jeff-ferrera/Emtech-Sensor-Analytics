{
  "nbformat": 4,
  "nbformat_minor": 0,
  "metadata": {
    "colab": {
      "provenance": []
    },
    "kernelspec": {
      "name": "python3",
      "display_name": "Python 3"
    },
    "language_info": {
      "name": "python"
    }
  },
  "cells": [
    {
      "cell_type": "code",
      "execution_count": null,
      "metadata": {
        "id": "C8L2cU9T4GWx"
      },
      "outputs": [],
      "source": [
        "n=int(input())#size of list\n",
        "\n",
        "lis=[]#list to which elements are going to be stored\n",
        "\n",
        "for i in range(n):\n",
        "\n",
        "    print(\"Enter a number:\")\n",
        "\n",
        "    lis.append(int(input()))#obtains a value from user and add it to the list\n",
        "\n",
        "mean=sum(lis)//n#to find the mean\n",
        "\n",
        "slis=sorted(lis)\n",
        "\n",
        "if(n%2==0):\n",
        "\n",
        "    median=(slis[(n-1)//2]+slis[(n-1)//2+1])/2 #finds median if total numbers are even\n",
        "\n",
        "else:\n",
        "\n",
        "    median=slis[(n-1)//2] #finds median if total numbers are odd\n",
        "\n",
        "def most_frequent(lis): #function to find most repeated element in list\n",
        "\n",
        "    return max(set(lis), key = lis.count)\n",
        "\n",
        "mode=most_frequent(lis)#to find mode\n",
        "\n",
        "print(\"Mean= \"+str(mean))#print statements\n",
        "\n",
        "print(\"Median= \"+str(median))\n",
        "\n",
        "print(\"Mode= \"+str(mode))\n",
        "\n"
      ]
    },
    {
      "cell_type": "code",
      "source": [],
      "metadata": {
        "id": "SCQJ46nn9khM"
      },
      "execution_count": null,
      "outputs": []
    }
  ]
}